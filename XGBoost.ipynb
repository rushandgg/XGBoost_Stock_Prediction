{
 "cells": [
  {
   "cell_type": "code",
   "execution_count": 155,
   "metadata": {},
   "outputs": [],
   "source": [
    "import pandas as pd\n",
    "import numpy as np\n",
    "from xgboost import XGBClassifier\n",
    "from sklearn.metrics import accuracy_score\n",
    "import ta\n",
    "import matplotlib.pyplot as plt"
   ]
  },
  {
   "cell_type": "code",
   "execution_count": 156,
   "metadata": {},
   "outputs": [],
   "source": [
    "# Data Load\n",
    "df = pd.read_csv('D:/Denoising/Autoencoder/LSTM_SAE/Samsung.txt', sep = ',')"
   ]
  },
  {
   "cell_type": "code",
   "execution_count": 157,
   "metadata": {},
   "outputs": [],
   "source": [
    "# Make Indicator : SMA, EMA, Stochastic K%, Stochastic D%, RSI, MACD, Disparity\n",
    "\n",
    "# Bollinger Band\n",
    "bol_h = ta.volatility.bollinger_hband(df[\"CLOSE\"])\n",
    "bol_l = ta.volatility.bollinger_lband(df[\"CLOSE\"])\n",
    "\n",
    "# SMA\n",
    "sma = ta.trend.sma_indicator(df[\"CLOSE\"],12)\n",
    "\n",
    "# EMA\n",
    "ema = ta.trend.ema_indicator(df[\"CLOSE\"],12)\n",
    "\n",
    "# Stochastic\n",
    "sto_k = ta.momentum.stochrsi_k(df[\"CLOSE\"])\n",
    "sto_d = ta.momentum.stochrsi_d(df[\"CLOSE\"])\n",
    "\n",
    "# RSI\n",
    "rsi = ta.momentum.rsi(df[\"CLOSE\"], 14)\n",
    "\n",
    "# MACD\n",
    "macd = ta.trend.macd(df[\"CLOSE\"], 13, 26)"
   ]
  },
  {
   "cell_type": "code",
   "execution_count": 158,
   "metadata": {},
   "outputs": [],
   "source": [
    "# Label Close Price as Up(1) and Down(0)\n",
    "updown_list = []\n",
    "for i in range(len(df)):\n",
    "    if i == 0:\n",
    "        updown_list.append(0)\n",
    "    else:\n",
    "        updown = df[\"CLOSE\"][i] - df[\"CLOSE\"][i-1]\n",
    "        if updown >= 0:\n",
    "            updown_list.append(1)\n",
    "        else:\n",
    "            updown_list.append(0)\n",
    "\n",
    "    "
   ]
  },
  {
   "cell_type": "code",
   "execution_count": 159,
   "metadata": {},
   "outputs": [],
   "source": [
    "# Concat Indicators and Price\n",
    "x = np.zeros((len(df)-200,9))\n",
    "idx = 0\n",
    "for i in range(200,len(df)):\n",
    "    x[idx][0] = bol_h[i]\n",
    "    x[idx][1] = bol_l[i]\n",
    "    x[idx][2] = sma[i]\n",
    "    x[idx][3] = ema[i]\n",
    "    x[idx][4] = sto_k[i]\n",
    "    x[idx][5] = sto_d[i]\n",
    "    x[idx][6] = rsi[i]\n",
    "    x[idx][7] = macd[i]\n",
    "    x[idx][8] = df[\"CLOSE\"][i]\n",
    "    idx += 1\n",
    "\n",
    "y = np.zeros((len(df)-200,1))\n",
    "idx2 = 0\n",
    "for j in range(200,len(df)):\n",
    "    y[idx2][0] = updown_list[j]\n",
    "    idx2 += 1\n",
    "\n",
    "X_train, X_test, y_train, y_test = train_test_split(x, y, test_size=0.2, random_state=123)"
   ]
  },
  {
   "cell_type": "code",
   "execution_count": 160,
   "metadata": {},
   "outputs": [
    {
     "data": {
      "text/plain": [
       "XGBClassifier(base_score=0.5, booster='gbtree', callbacks=None,\n",
       "              colsample_bylevel=1, colsample_bynode=1, colsample_bytree=1,\n",
       "              early_stopping_rounds=None, enable_categorical=False,\n",
       "              eval_metric=None, gamma=0, gpu_id=-1, grow_policy='depthwise',\n",
       "              importance_type=None, interaction_constraints='',\n",
       "              learning_rate=0.05, max_bin=256, max_cat_to_onehot=4,\n",
       "              max_delta_step=0, max_depth=5, max_leaves=0, min_child_weight=1,\n",
       "              missing=nan, monotone_constraints='()', n_estimators=300,\n",
       "              n_jobs=0, num_parallel_tree=1, predictor='auto', random_state=0,\n",
       "              reg_alpha=0, reg_lambda=1, ...)"
      ]
     },
     "execution_count": 160,
     "metadata": {},
     "output_type": "execute_result"
    }
   ],
   "source": [
    "# Model Build\n",
    "model = XGBClassifier(max_depth = 5,  n_estimators=300, learning_rate=0.05)\n",
    "model.fit(X_train, y_train)"
   ]
  },
  {
   "cell_type": "code",
   "execution_count": 161,
   "metadata": {},
   "outputs": [],
   "source": [
    "# Predict\n",
    "y_pred = model.predict(X_test)\n",
    "predictions = [round(value) for value in y_pred]"
   ]
  },
  {
   "cell_type": "code",
   "execution_count": 162,
   "metadata": {},
   "outputs": [
    {
     "name": "stdout",
     "output_type": "stream",
     "text": [
      "Accuracy : 72.55%\n"
     ]
    }
   ],
   "source": [
    "# Check Accuracy\n",
    "acc = accuracy_score(y_test, predictions)\n",
    "print(\"Accuracy : %.2f%%\" % (acc*100.0))"
   ]
  },
  {
   "cell_type": "code",
   "execution_count": 163,
   "metadata": {},
   "outputs": [
    {
     "name": "stdout",
     "output_type": "stream",
     "text": [
      "72.99%\n",
      "72.03%\n"
     ]
    }
   ],
   "source": [
    "# Check Precision\n",
    "pre_1_list = [] # If predict value is 1 and real value is 1 then append 1\n",
    "pre_0_list = [] # If Predict value is 0 and real value is 0 then append 1\n",
    "for i in range(len(predictions)):\n",
    "    if predictions[i] == 1:\n",
    "        if y_test[i] == 1:\n",
    "            pre_1_list.append(1)\n",
    "        else:\n",
    "            pre_1_list.append(0)\n",
    "    elif predictions[i] == 0:\n",
    "        if y_test[i] == 0:\n",
    "            pre_0_list.append(1)\n",
    "        else:\n",
    "            pre_0_list.append(0)\n",
    "pre_1 = round(sum(pre_1_list)/len(pre_1_list)*100,2)\n",
    "pre_0 = round(sum(pre_0_list)/len(pre_0_list)*100,2)\n",
    "print(str(pre_1)+\"%\")\n",
    "print(str(pre_0)+\"%\")"
   ]
  },
  {
   "cell_type": "code",
   "execution_count": 164,
   "metadata": {},
   "outputs": [
    {
     "name": "stdout",
     "output_type": "stream",
     "text": [
      "55.25%\n"
     ]
    }
   ],
   "source": [
    "# Check Recall\n",
    "up_count = 0\n",
    "for i in range(len(updown_list)):\n",
    "    if updown_list[i] == 1:\n",
    "        up_count +=1\n",
    "recall = round(up_count / len(updown_list)*100,2)\n",
    "print(str(recall)+\"%\")"
   ]
  },
  {
   "cell_type": "code",
   "execution_count": 165,
   "metadata": {},
   "outputs": [],
   "source": [
    "# And Compare to Just Close Price\n",
    "x2 = np.zeros((len(df)-200,1))\n",
    "idx = 0\n",
    "for i in range(200,len(df)):\n",
    "    x[idx][0] = df[\"CLOSE\"][i]\n",
    "    idx += 1\n",
    "\n",
    "X_train, X_test, y_train, y_test = train_test_split(x2, y, test_size=0.2, random_state=123)"
   ]
  },
  {
   "cell_type": "code",
   "execution_count": 166,
   "metadata": {},
   "outputs": [
    {
     "data": {
      "text/plain": [
       "XGBClassifier(base_score=0.5, booster='gbtree', callbacks=None,\n",
       "              colsample_bylevel=1, colsample_bynode=1, colsample_bytree=1,\n",
       "              early_stopping_rounds=None, enable_categorical=False,\n",
       "              eval_metric=None, gamma=0, gpu_id=-1, grow_policy='depthwise',\n",
       "              importance_type=None, interaction_constraints='',\n",
       "              learning_rate=0.05, max_bin=256, max_cat_to_onehot=4,\n",
       "              max_delta_step=0, max_depth=5, max_leaves=0, min_child_weight=1,\n",
       "              missing=nan, monotone_constraints='()', n_estimators=300,\n",
       "              n_jobs=0, num_parallel_tree=1, predictor='auto', random_state=0,\n",
       "              reg_alpha=0, reg_lambda=1, ...)"
      ]
     },
     "execution_count": 166,
     "metadata": {},
     "output_type": "execute_result"
    }
   ],
   "source": [
    "# Model Build2\n",
    "model = XGBClassifier(max_depth = 5,  n_estimators=300, learning_rate=0.05)\n",
    "model.fit(X_train, y_train)"
   ]
  },
  {
   "cell_type": "code",
   "execution_count": 167,
   "metadata": {},
   "outputs": [],
   "source": [
    "# Predict2\n",
    "y_pred = model.predict(X_test)\n",
    "predictions = [round(value) for value in y_pred]"
   ]
  },
  {
   "cell_type": "code",
   "execution_count": 168,
   "metadata": {},
   "outputs": [
    {
     "name": "stdout",
     "output_type": "stream",
     "text": [
      "Accuracy : 52.16%\n"
     ]
    }
   ],
   "source": [
    "# Check Accuracy2\n",
    "acc = accuracy_score(y_test, predictions)\n",
    "print(\"Accuracy : %.2f%%\" % (acc*100.0))"
   ]
  }
 ],
 "metadata": {
  "kernelspec": {
   "display_name": "Python 3.8.5 ('base': conda)",
   "language": "python",
   "name": "python3"
  },
  "language_info": {
   "codemirror_mode": {
    "name": "ipython",
    "version": 3
   },
   "file_extension": ".py",
   "mimetype": "text/x-python",
   "name": "python",
   "nbconvert_exporter": "python",
   "pygments_lexer": "ipython3",
   "version": "3.8.5"
  },
  "orig_nbformat": 4,
  "vscode": {
   "interpreter": {
    "hash": "616f588775ebd5684723f0fc88bdf016eafcafb45847b72d0199a5bd69bf316d"
   }
  }
 },
 "nbformat": 4,
 "nbformat_minor": 2
}
